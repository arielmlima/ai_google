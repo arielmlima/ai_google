{
  "nbformat": 4,
  "nbformat_minor": 0,
  "metadata": {
    "colab": {
      "provenance": [],
      "authorship_tag": "ABX9TyMymECxTob23hALBm0a5ffN",
      "include_colab_link": true
    },
    "kernelspec": {
      "name": "python3",
      "display_name": "Python 3"
    },
    "language_info": {
      "name": "python"
    }
  },
  "cells": [
    {
      "cell_type": "markdown",
      "metadata": {
        "id": "view-in-github",
        "colab_type": "text"
      },
      "source": [
        "<a href=\"https://colab.research.google.com/github/arielmlima/ai_google/blob/main/MyfirstLLM.ipynb\" target=\"_parent\"><img src=\"https://colab.research.google.com/assets/colab-badge.svg\" alt=\"Open In Colab\"/></a>"
      ]
    },
    {
      "cell_type": "markdown",
      "source": [
        "**Instalando o SDK do Google**"
      ],
      "metadata": {
        "id": "2Y1CrVIFqTOn"
      }
    },
    {
      "cell_type": "code",
      "source": [
        "!pip install -q -U google-generativeai"
      ],
      "metadata": {
        "id": "Z9HHfW85md0X"
      },
      "execution_count": 4,
      "outputs": []
    },
    {
      "cell_type": "markdown",
      "source": [
        "**Importando bibliotecas, e criando atalho genai, e inserindo nossa chave API**"
      ],
      "metadata": {
        "id": "_JckK6Peqbhe"
      }
    },
    {
      "cell_type": "code",
      "source": [
        "import google.generativeai as genai\n",
        "from google.colab import userdata\n",
        "api_key = userdata.get('SECRET_KEY')\n",
        "#GOOGLE_API_KEY=\"COLE AQUI SUA API KEY\"\n",
        "genai.configure(api_key=api_key)\n",
        "#genai.configure(api_key=GOOGLE_API_KEY)"
      ],
      "metadata": {
        "id": "HaDAnU6nmkvG"
      },
      "execution_count": 5,
      "outputs": []
    },
    {
      "cell_type": "markdown",
      "source": [
        "**Listar os modelos disponiveis**"
      ],
      "metadata": {
        "id": "0Jf6laF1qk7u"
      }
    },
    {
      "cell_type": "code",
      "source": [
        "for m in genai.list_models():\n",
        "  if \"generateContent\" in m.supported_generation_methods:\n",
        "    print(m.name)"
      ],
      "metadata": {
        "colab": {
          "base_uri": "https://localhost:8080/",
          "height": 139
        },
        "id": "s59Jv-eytftt",
        "outputId": "381c250c-a6f9-4387-fb4d-9c7d43e141d2"
      },
      "execution_count": 8,
      "outputs": [
        {
          "output_type": "stream",
          "name": "stdout",
          "text": [
            "models/gemini-1.0-pro\n",
            "models/gemini-1.0-pro-001\n",
            "models/gemini-1.0-pro-latest\n",
            "models/gemini-1.0-pro-vision-latest\n",
            "models/gemini-1.5-pro-latest\n",
            "models/gemini-pro\n",
            "models/gemini-pro-vision\n"
          ]
        }
      ]
    },
    {
      "cell_type": "markdown",
      "source": [
        "**Configurações GoogleIA Studio**"
      ],
      "metadata": {
        "id": "F_gyxXYGvL-c"
      }
    },
    {
      "cell_type": "code",
      "source": [
        "generation_config = {\n",
        "    \"candidate_count\": 1,\n",
        "    \"temperature\": 0.5,\n",
        "    \"top_p\": 1,\n",
        "    \"top_k\": 0.5\n",
        "}"
      ],
      "metadata": {
        "id": "w1JGV8pxuukn"
      },
      "execution_count": 9,
      "outputs": []
    },
    {
      "cell_type": "code",
      "source": [
        "safety_settings = {\n",
        "    \"HARASSMENT\": \"BLOCK_NONE\",\n",
        "    \"HATE\": \"BLOCK_SOME\",\n",
        "    \"SEXUAL\": \"BLOCK_NONE\",\n",
        "    \"DANGEROUS\": \"BLOCK-NONE\"\n",
        "}"
      ],
      "metadata": {
        "id": "ZPpalhLNvQpF"
      },
      "execution_count": 10,
      "outputs": []
    },
    {
      "cell_type": "markdown",
      "source": [
        "**Qual modelo vamos usar: pro ou pro-vision, escolher a versão.**\n",
        "\n",
        "\n",
        "\n"
      ],
      "metadata": {
        "id": "EpjuVTKUt74O"
      }
    },
    {
      "cell_type": "code",
      "source": [
        "model = genai.GenerativeModel(model_name=\"gemini-1.0-pro\",\n",
        "                              generation_config=generation_config,\n",
        "                              safety_settings=safety_settings )"
      ],
      "metadata": {
        "id": "L5avwFd0mrTu"
      },
      "execution_count": 6,
      "outputs": []
    },
    {
      "cell_type": "markdown",
      "source": [
        "**Generate Content**\n",
        "\n",
        "\n"
      ],
      "metadata": {
        "id": "SUPqB6Jyt9od"
      }
    },
    {
      "cell_type": "code",
      "source": [
        "response = model.generate_content(\"Quero aprender sobre IA, me dê sugestões.\")\n",
        "print(response.text)"
      ],
      "metadata": {
        "colab": {
          "base_uri": "https://localhost:8080/",
          "height": 645
        },
        "id": "jWHRF1DumviW",
        "outputId": "3d670256-573b-496b-94c6-92508c5a7a64"
      },
      "execution_count": 7,
      "outputs": [
        {
          "output_type": "stream",
          "name": "stdout",
          "text": [
            "**Livros:**\n",
            "\n",
            "* \"Life 3.0: Being Human in the Age of Artificial Intelligence\" por Max Tegmark\n",
            "* \"Artificial Intelligence: A Modern Approach\" por Stuart Russell e Peter Norvig\n",
            "* \"Deep Learning\" por Ian Goodfellow, Yoshua Bengio e Aaron Courville\n",
            "* \"Aprendizado de máquina com Python\" por Sebastian Raschka e Vahid Mirjalili\n",
            "* \"IA prática com Python\" por gerd Heitmann\n",
            "\n",
            "**Cursos Online:**\n",
            "\n",
            "**Cursos Gratuitos:**\n",
            "* [Curso de Aprendizado de Máquina da Coursera](https://www.coursera.org/specializations/machine-learning)\n",
            "* [Curso de Inteligência Artificial da edX](https://www.edx.org/course/artificial-intelligence-ai)\n",
            "* [Introdução à Inteligência Artificial da Udacity](https://www.udacity.com/school-of-ai/nanodegree/nd032)\n",
            "\n",
            "**Cursos Pagos:**\n",
            "* [Nanodegree em Inteligência Artificial da Udacity](https://www.udacity.com/school-of-ai/nanodegree/nd032)\n",
            "* [Especialização em Aprendizado de Máquina do Coursera](https://www.coursera.org/specializations/machine-learning)\n",
            "* [MasterClass em Aprendizado de Máquina de Geoffrey Hinton](https://www.masterclass.com/classes/geoffrey-hinton-teaches-machine-learning)\n",
            "\n",
            "**Canais do YouTube:**\n",
            "\n",
            "* [DeepMind](https://www.youtube.com/user/DeepMind)\n",
            "* [Two Minute Papers](https://www.youtube.com/channel/UC3i-BS7a894lJZmlQT2s03A)\n",
            "* [AI Today](https://www.youtube.com/channel/UCEY_W_Fd02U4T7F2fDzG8yg)\n",
            "* [Lex Fridman](https://www.youtube.com/channel/UC1n_9dDGjkoE0hLMsD0btTw)\n",
            "* [Yann LeCun](https://www.youtube.com/channel/UCdy2-tinlN5h8dVMBn1mZjg)\n",
            "\n",
            "**Recursos Adicionais:**\n",
            "\n",
            "* [MIT OpenCourseWare](https://ocw.mit.edu/courses/)\n",
            "* [Stanford Online](https://online.stanford.edu/)\n",
            "* [Google AI](https://ai.google/)\n",
            "* [OpenAI](https://openai.com/)\n",
            "* [IBM Watson](https://www.ibm.com/watson/)\n"
          ]
        }
      ]
    },
    {
      "cell_type": "markdown",
      "source": [
        "**Chat Bot**"
      ],
      "metadata": {
        "id": "T5hvRkta3z40"
      }
    },
    {
      "cell_type": "code",
      "source": [
        "chat = model.start_chat(history=[])"
      ],
      "metadata": {
        "id": "wCLxS7SN0j7E"
      },
      "execution_count": 11,
      "outputs": []
    },
    {
      "cell_type": "code",
      "source": [
        "prompt = input(\"Esperando prompt: \")\n",
        "\n",
        "while prompt != \"fim\":\n",
        "  response = chat.send_message(prompt)\n",
        "  print(\"Resposta: \",response.text, \"\\n\")\n",
        "  prompt = input(\"Esperando prompt: \")"
      ],
      "metadata": {
        "id": "vwm8z_E8056E"
      },
      "execution_count": null,
      "outputs": []
    },
    {
      "cell_type": "markdown",
      "source": [
        "**Para ver o histórico de pesquisas:**"
      ],
      "metadata": {
        "id": "p40uou0G2yqu"
      }
    },
    {
      "cell_type": "code",
      "source": [
        "chat.history\n",
        "\n",
        "\n"
      ],
      "metadata": {
        "id": "vNXDHRJs22Jm"
      },
      "execution_count": null,
      "outputs": []
    }
  ]
}